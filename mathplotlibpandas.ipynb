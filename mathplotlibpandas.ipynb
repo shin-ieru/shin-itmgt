{
 "cells": [
  {
   "cell_type": "code",
   "execution_count": 1,
   "id": "0c1af929-b55e-4a0d-9eba-4f604c7279dd",
   "metadata": {},
   "outputs": [],
   "source": [
    "import matplotlib as mp"
   ]
  },
  {
   "cell_type": "code",
   "execution_count": null,
   "id": "9c40451c-210d-4884-a1e6-1ab6741f6925",
   "metadata": {},
   "outputs": [],
   "source": [
    "x = "
   ]
  }
 ],
 "metadata": {
  "kernelspec": {
   "display_name": "",
   "name": ""
  },
  "language_info": {
   "name": ""
  }
 },
 "nbformat": 4,
 "nbformat_minor": 5
}
