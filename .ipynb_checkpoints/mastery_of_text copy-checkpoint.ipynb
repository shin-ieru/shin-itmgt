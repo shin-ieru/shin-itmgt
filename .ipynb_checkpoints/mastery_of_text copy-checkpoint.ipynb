{
 "cells": [
  {
   "cell_type": "code",
   "execution_count": 7,
   "id": "d7552106-7e1d-4336-9b1d-b119507e3757",
   "metadata": {},
   "outputs": [],
   "source": [
    "from urllib.request import urlopen #urlopen opens the url\n",
    "\n",
    "url = \"https://www.gutenberg.org/cache/epub/10/pg10.txt\"\n",
    "\n",
    "character_set = response.headers.get_content_charset() #h headers great place to get charset info, even if utf-8 most common, realpython qte\n",
    "\n",
    "with urlopen (url) as response:\n",
    "    pg10 = response.read().decode(character_set)"
   ]
  },
  {
   "cell_type": "code",
   "execution_count": 10,
   "id": "8c034490-459d-4972-8831-bd04f669674b",
   "metadata": {},
   "outputs": [
    {
     "name": "stdout",
     "output_type": "stream",
     "text": [
      "Lines: 99968\n"
     ]
    }
   ],
   "source": [
    "# not a text file, but stored as string \n",
    "line_count = len (pg10.splitlines())\n",
    "print (\"Lines:\", line_count)"
   ]
  },
  {
   "cell_type": "code",
   "execution_count": 15,
   "id": "fc3c6d02-f120-476a-883f-094b00698fc4",
   "metadata": {},
   "outputs": [
    {
     "name": "stdout",
     "output_type": "stream",
     "text": [
      "Words: 795227\n"
     ]
    }
   ],
   "source": [
    "# (a word is any set of directly-adjacent alphabet characters, not including 2)\n",
    "# can't use len, counts ! etc.\n",
    "\n",
    "words = [] # list of words for later steps\n",
    "current_word = []\n",
    "\n",
    "for character in pg10:\n",
    "    if character.isalpha(): # ignore nonletters, only alphabet\n",
    "        current_word.append(character.lower()) # to join letters into a string\n",
    "    else: # we hit non letter\n",
    "        if current_word:\n",
    "            words.append (''.join(current_word)) # finalize into a string\n",
    "            current_word = [] # start new word, resets\n",
    "\n",
    "if current_word: # safeguard for last\n",
    "    words.append(''.join(current_word))\n",
    "\n",
    "word_count = len (words)\n",
    "print (\"Words:\", word_count)#"
   ]
  },
  {
   "cell_type": "code",
   "execution_count": 17,
   "id": "a58633d6-6d0f-4cbe-a3c2-18d2f265b90b",
   "metadata": {},
   "outputs": [
    {
     "name": "stdout",
     "output_type": "stream",
     "text": [
      "Apostle Occurences: 47\n"
     ]
    }
   ],
   "source": [
    "# count apostle occurence\n",
    "# we already built a list\n",
    "\n",
    "count_apostle = words.count (\"apostle\")\n",
    "print (\"Apostle Occurences:\", count_apostle)"
   ]
  },
  {
   "cell_type": "code",
   "execution_count": 19,
   "id": "e33413af-0caa-4875-bbb1-5c30b6c71804",
   "metadata": {},
   "outputs": [
    {
     "name": "stdout",
     "output_type": "stream",
     "text": [
      "Most Common Word (MCW): the\n",
      "Count of MCW: 64309\n"
     ]
    }
   ],
   "source": [
    "mcw = max (set(words), key = words.count) # create set, key is number, max sets value to higher key\n",
    "mcc = words.count (mcw)\n",
    "\n",
    "print (\"Most Common Word (MCW):\", mcw)\n",
    "print (\"Count of MCW:\", mcc)"
   ]
  }
 ],
 "metadata": {
  "kernelspec": {
   "display_name": "Python [conda env:base] *",
   "language": "python",
   "name": "conda-base-py"
  },
  "language_info": {
   "codemirror_mode": {
    "name": "ipython",
    "version": 3
   },
   "file_extension": ".py",
   "mimetype": "text/x-python",
   "name": "python",
   "nbconvert_exporter": "python",
   "pygments_lexer": "ipython3",
   "version": "3.13.5"
  }
 },
 "nbformat": 4,
 "nbformat_minor": 5
}
